{
 "cells": [
  {
   "cell_type": "markdown",
   "id": "30e8ebea",
   "metadata": {},
   "source": [
    "## Atoki Bolutife Stage C Graded Quiz\n",
    "## Hamoye ID: 146eb340cb01f000"
   ]
  },
  {
   "cell_type": "code",
   "execution_count": null,
   "id": "88077f78",
   "metadata": {},
   "outputs": [],
   "source": [
    "#importing libraries\n",
    "import pandas as pd\n",
    "import numpy as np\n",
    "import matplotlib.pyplot as plt\n",
    "%matplotlib inline"
   ]
  },
  {
   "cell_type": "code",
   "execution_count": null,
   "id": "923710a0",
   "metadata": {},
   "outputs": [],
   "source": [
    "df = pd.read_csv('Data_for_UCI_named.csv', encoding='latin-1')\n",
    "df"
   ]
  },
  {
   "cell_type": "code",
   "execution_count": null,
   "id": "1e6e46f0",
   "metadata": {},
   "outputs": [],
   "source": [
    "#getting features and labels\n",
    "x = df.drop(columns=['stabf'])\n",
    "\n",
    "y = df['stabf']"
   ]
  },
  {
   "cell_type": "code",
   "execution_count": null,
   "id": "9d353be3",
   "metadata": {},
   "outputs": [],
   "source": [
    "#Importing Train test split\n",
    "from sklearn.model_selection import train_test_split\n",
    "x_train, x_test, y_train, y_test = train_test_split(x, y, test_size=0.2, random_state=1)\n"
   ]
  },
  {
   "cell_type": "code",
   "execution_count": null,
   "id": "e7fb2486",
   "metadata": {},
   "outputs": [],
   "source": [
    "#Using Standard scaler to transform split datasets\n",
    "from sklearn.preprocessing import StandardScaler\n",
    "\n",
    "scaler = StandardScaler()\n",
    "scaler.fit(x_train)\n",
    "\n",
    "x_train_scaled = scaler.transform(x_train)\n",
    "x_test_scaled = scaler.transform(x_test)"
   ]
  },
  {
   "cell_type": "code",
   "execution_count": null,
   "id": "0a2153d6",
   "metadata": {},
   "outputs": [],
   "source": [
    "#Converting to dataframe\n",
    "x_train_scaled = pd.DataFrame(x_train_scaled, columns = x_train.columns)\n",
    "x_test_scaled = pd.DataFrame(x_test_scaled, columns = x_test.columns)"
   ]
  },
  {
   "cell_type": "markdown",
   "id": "3d09cf9c",
   "metadata": {},
   "source": [
    "<hr>"
   ]
  },
  {
   "cell_type": "markdown",
   "id": "c911b4f4",
   "metadata": {},
   "source": [
    "Making Models"
   ]
  },
  {
   "cell_type": "markdown",
   "id": "fca59431",
   "metadata": {},
   "source": [
    "RandomForestClassifier"
   ]
  },
  {
   "cell_type": "code",
   "execution_count": null,
   "id": "799b503f",
   "metadata": {},
   "outputs": [],
   "source": [
    "#Build and train a RandomForestClassifier \n",
    "from sklearn.ensemble import RandomForestClassifier\n",
    "\n",
    "rfc = RandomForestClassifier(random_state = 1)\n",
    "\n",
    "#fitting on training set\n",
    "rfc.fit(x_train_scaled, y_train)\n",
    "\n",
    "#make predictions on test set\n",
    "rf_pred = rfc.predict(x_test_scaled)"
   ]
  },
  {
   "cell_type": "code",
   "execution_count": null,
   "id": "b396b4bd",
   "metadata": {},
   "outputs": [],
   "source": [
    "#model accuracy for RandomForestClassifier\n",
    "from sklearn.metrics import accuracy_score\n",
    "\n",
    "accuracy = accuracy_score(y_test, rf_pred)\n",
    "print('Accuracy is {} to 4dp'.format(round(accuracy*100), 4))"
   ]
  },
  {
   "cell_type": "markdown",
   "id": "a00d753c",
   "metadata": {},
   "source": [
    "ExtraTreeClassifier"
   ]
  },
  {
   "cell_type": "code",
   "execution_count": null,
   "id": "5b7d67bf",
   "metadata": {},
   "outputs": [],
   "source": [
    "#Building and training EXtratree\n",
    "from sklearn.ensemble import ExtraTreesClassifier\n",
    "\n",
    "etc = ExtraTreesClassifier(random_state = 1)\n",
    "\n",
    "#fitting on the train set\n",
    "etc.fit(x_train_scaled, y_train)\n",
    "\n",
    "#predict on test set\n",
    "etc_pred = etc.predict(x_test_scaled)"
   ]
  },
  {
   "cell_type": "code",
   "execution_count": null,
   "id": "d74f1895",
   "metadata": {},
   "outputs": [],
   "source": [
    "#Testing model accuracy\n",
    "etc_accuracy = accuracy_score(y_test, etc_pred)\n",
    "print('Accuracy is {} to 4dp'.format(round(etc_accuracy*100), 4))"
   ]
  },
  {
   "cell_type": "markdown",
   "id": "fb317da3",
   "metadata": {},
   "source": [
    "XGBoost"
   ]
  },
  {
   "cell_type": "code",
   "execution_count": null,
   "id": "a36f403b",
   "metadata": {},
   "outputs": [],
   "source": [
    "#Building and training XGBoost\n",
    "from xgboost import XGBClassifier\n",
    "\n",
    "xbc= XGBClassifier(random_state = 1)\n",
    "\n",
    "#fitting on training set\n",
    "xbc.fit(x_train_scaled, y_train)\n",
    "\n",
    "#predicting on test set\n",
    "xbc_pred = xbc.predict(x_test_scaled)"
   ]
  },
  {
   "cell_type": "code",
   "execution_count": null,
   "id": "e2709c3b",
   "metadata": {},
   "outputs": [],
   "source": [
    "#Testing model accuracy\n",
    "xbc_accuracy = accuracy_score(y_test, xbc_pred)\n",
    "print('Accuracy is {} to 4dp'.format(round(xbc_accuracy*100), 4))"
   ]
  },
  {
   "cell_type": "markdown",
   "id": "cdba29e9",
   "metadata": {},
   "source": [
    "LGBM"
   ]
  },
  {
   "cell_type": "code",
   "execution_count": null,
   "id": "59038ec4",
   "metadata": {},
   "outputs": [],
   "source": [
    "#Building and training LGBM\n",
    "from lightgbm import LGBMClassifier\n",
    "\n",
    "lgbm= LGBMClassifier(random_state = 1)\n",
    "\n",
    "#fit on train set\n",
    "lgbm.fit(x_train_scaled, y_train)"
   ]
  },
  {
   "cell_type": "code",
   "execution_count": null,
   "id": "58129ebe",
   "metadata": {},
   "outputs": [],
   "source": [
    "#predicting on test set\n",
    "lgbm_pred = lgbm.predict(x_test_scaled)"
   ]
  },
  {
   "cell_type": "code",
   "execution_count": null,
   "id": "e01c025c",
   "metadata": {},
   "outputs": [],
   "source": [
    "#Testing model accuracy\n",
    "lgbm_accuracy = accuracy_score(y_test, lgbm_pred)\n",
    "print('Accuracy is {} to 4dp'.format(round(lgbm_accuracy*100), 4))"
   ]
  },
  {
   "cell_type": "markdown",
   "id": "652a8443",
   "metadata": {},
   "source": [
    "Training new ExtraTreesClassifier"
   ]
  },
  {
   "cell_type": "code",
   "execution_count": null,
   "id": "99571317",
   "metadata": {},
   "outputs": [],
   "source": [
    "#combination of hyperparameters\n",
    "n_estimators = [50, 100, 300, 500, 1000]\n",
    "\n",
    "min_samples_split = [2, 3, 5, 7, 9]\n",
    "\n",
    "min_samples_leaf = [1, 2, 4, 6, 8]\n",
    "\n",
    "max_features = ['auto', 'sqrt', 'log2', None] \n",
    "\n",
    "hyperparameter_grid = {'n_estimators': n_estimators,\n",
    "\n",
    "                       'min_samples_leaf': min_samples_leaf,\n",
    "\n",
    "                       'min_samples_split': min_samples_split,\n",
    "\n",
    "                       'max_features': max_features}"
   ]
  },
  {
   "cell_type": "code",
   "execution_count": null,
   "id": "267ef346",
   "metadata": {},
   "outputs": [],
   "source": [
    "from sklearn.model_selection import RandomizedSearchCV\n",
    "\n",
    "#randomsearch with 5-folds\n",
    "\n",
    "randomcv = RandomizedSearchCV(estimator = etc, \n",
    "                              param_distributions = hyperparameter_grid, cv=5, n_iter=10, scoring = 'accuracy', n_jobs = -1, verbose = 1,\n",
    "                              random_state = 1)"
   ]
  },
  {
   "cell_type": "code",
   "execution_count": null,
   "id": "555940da",
   "metadata": {},
   "outputs": [],
   "source": [
    "#fitting on the training data\n",
    "search = randomcv.fit(x_train_scaled, y_train)"
   ]
  },
  {
   "cell_type": "code",
   "execution_count": null,
   "id": "7ebf07d3",
   "metadata": {},
   "outputs": [],
   "source": [
    "#Lookingn for Hyperparameters\n",
    "search.best_params_"
   ]
  },
  {
   "cell_type": "code",
   "execution_count": null,
   "id": "66b94f72",
   "metadata": {},
   "outputs": [],
   "source": [
    "#Returning and printing feature importance\n",
    "importance = etc2.feature_importances_\n",
    "for i,v in enumerate(importance):\n",
    "    print('Feature: %0d, Score: %.5f' % (i,v))"
   ]
  },
  {
   "cell_type": "code",
   "execution_count": null,
   "id": "692ba85b",
   "metadata": {},
   "outputs": [],
   "source": [
    "#Testing ExtraTreesClassifier on test set using Hyper parameters\n",
    "etc2 = ExtraTreesClassifier(max_features = None, \n",
    "                            min_samples_leaf= 8,\n",
    "                            min_samples_split= 2,\n",
    "                            n_estimators= 1000, \n",
    "                            random_state = 1)\n",
    "\n",
    "#fit on train set\n",
    "etc2.fit(x_train_scaled, y_train)"
   ]
  },
  {
   "cell_type": "code",
   "execution_count": null,
   "id": "fb485957",
   "metadata": {},
   "outputs": [],
   "source": [
    "#predicting on test set\n",
    "etc2_pred = etc2.predict(x_test_scaled)"
   ]
  },
  {
   "cell_type": "code",
   "execution_count": null,
   "id": "b0467c74",
   "metadata": {},
   "outputs": [],
   "source": [
    "#obtaining classification report\n",
    "print('Classification Report:\\n', classification_report(y_test,etc2_pred, digits =4))"
   ]
  },
  {
   "cell_type": "code",
   "execution_count": null,
   "id": "14105ee2",
   "metadata": {},
   "outputs": [],
   "source": []
  },
  {
   "cell_type": "code",
   "execution_count": null,
   "id": "5c88a871",
   "metadata": {},
   "outputs": [],
   "source": []
  }
 ],
 "metadata": {
  "kernelspec": {
   "display_name": "Python 3 (ipykernel)",
   "language": "python",
   "name": "python3"
  },
  "language_info": {
   "codemirror_mode": {
    "name": "ipython",
    "version": 3
   },
   "file_extension": ".py",
   "mimetype": "text/x-python",
   "name": "python",
   "nbconvert_exporter": "python",
   "pygments_lexer": "ipython3",
   "version": "3.9.7"
  }
 },
 "nbformat": 4,
 "nbformat_minor": 5
}
